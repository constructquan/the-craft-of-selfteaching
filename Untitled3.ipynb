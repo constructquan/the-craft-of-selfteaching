{
 "cells": [
  {
   "cell_type": "code",
   "execution_count": 6,
   "metadata": {},
   "outputs": [
    {
     "name": "stdout",
     "output_type": "stream",
     "text": [
      "[46, 55, 35, 47, 26, 53, 18, 2, 51, 33]\n",
      "a_olist has 10 elements.\n",
      "... and there is 4 even number.\n"
     ]
    }
   ],
   "source": [
    "import random\n",
    "a_olist = [random.randrange(1,60) for i in range(10)]\n",
    "print(a_olist)\n",
    "print(f'a_olist has {len(a_olist)} elements.')\n",
    "print(f'... and there is {len([x for x in a_olist if x % 2 ==0])} even number.')"
   ]
  },
  {
   "cell_type": "code",
   "execution_count": 16,
   "metadata": {},
   "outputs": [
    {
     "name": "stdout",
     "output_type": "stream",
     "text": [
      "['D', 'A', 'Y', 'O', 'G', 'A']\n"
     ]
    }
   ],
   "source": [
    "import random \n",
    "n = 6\n",
    "b_olist = [chr(random.randrange(65, 91)) for i in range(n)]\n",
    "print(b_olist)\n",
    "#print(chr(97))\n",
    "#print(ord('c'))"
   ]
  },
  {
   "cell_type": "code",
   "execution_count": null,
   "metadata": {},
   "outputs": [],
   "source": []
  },
  {
   "cell_type": "code",
   "execution_count": 18,
   "metadata": {},
   "outputs": [
    {
     "name": "stdout",
     "output_type": "stream",
     "text": [
      "H\n"
     ]
    }
   ],
   "source": [
    "class Foo(object):\n",
    "    def __init__(self, name):\n",
    "        self.name = name\n",
    "\n",
    "name = \"Hello\"\n",
    "foo = Foo(name)\n",
    "print(name[0])"
   ]
  },
  {
   "cell_type": "code",
   "execution_count": 25,
   "metadata": {},
   "outputs": [
    {
     "name": "stdout",
     "output_type": "stream",
     "text": [
      "87513776\n",
      "87511536\n",
      "Hello\n",
      "87513776\n"
     ]
    }
   ],
   "source": [
    "s='Hello'\n",
    "print(id(s))\n",
    "print(id(s.replace('H','h')))\n",
    "print(s)\n",
    "print(id(s))"
   ]
  },
  {
   "cell_type": "code",
   "execution_count": 26,
   "metadata": {},
   "outputs": [
    {
     "ename": "NameError",
     "evalue": "name 'inspect' is not defined",
     "output_type": "error",
     "traceback": [
      "\u001b[0;31m---------------------------------------------------------------------------\u001b[0m",
      "\u001b[0;31mNameError\u001b[0m                                 Traceback (most recent call last)",
      "\u001b[0;32m<ipython-input-26-5ce7cdddc9a5>\u001b[0m in \u001b[0;36m<module>\u001b[0;34m()\u001b[0m\n\u001b[0;32m----> 1\u001b[0;31m \u001b[0minspect\u001b[0m\u001b[1;33m.\u001b[0m\u001b[0mgetsourcefile\u001b[0m\u001b[1;33m(\u001b[0m\u001b[0mmax\u001b[0m\u001b[1;33m)\u001b[0m\u001b[1;33m\u001b[0m\u001b[1;33m\u001b[0m\u001b[0m\n\u001b[0m",
      "\u001b[0;31mNameError\u001b[0m: name 'inspect' is not defined"
     ]
    }
   ],
   "source": [
    "inspect.getsourcefile(max)"
   ]
  },
  {
   "cell_type": "code",
   "execution_count": 29,
   "metadata": {},
   "outputs": [
    {
     "name": "stdout",
     "output_type": "stream",
     "text": [
      "['Ch', 'Ld', 'Ye', 'Pp', 'Tu']\n",
      "['Ch', 'Ld', 'Pp', 'Tu', 'Ye']\n"
     ]
    }
   ],
   "source": [
    "import random\n",
    "n = 5 \n",
    "b_list = [chr(random.randrange(65,91)) + \\\n",
    "          chr(random.randrange(97,123)) for i in range(n)]\n",
    "\n",
    "print(b_list)\n",
    "b_list.sort()\n",
    "print(b_list)"
   ]
  },
  {
   "cell_type": "code",
   "execution_count": 45,
   "metadata": {},
   "outputs": [
    {
     "name": "stdout",
     "output_type": "stream",
     "text": [
      "87646728\n",
      "87648456\n",
      "[0, 1, 2, 3, 4, 5, 6, 7, 8, 9]\n",
      "[0, 1, 2, 3, 4, 5, 6, 7, 8, 9]\n"
     ]
    }
   ],
   "source": [
    "b_list= list(range(10))\n",
    "print(id(b_list))\n",
    "b_cpy_list = b_list.copy()\n",
    "print(id(b_cpy_list))\n",
    "\n",
    "#b_list.clear()\n",
    "id(b_list)\n",
    "print(b_list)\n",
    "print(b_cpy_list)\n",
    "#b_list= b_cpy_list\n",
    "#id(b_list)\n",
    "#b_list.clear()\n",
    "#print(b_cpy_list)\n",
    "\n",
    "b_list.pop()"
   ]
  },
  {
   "cell_type": "code",
   "execution_count": 46,
   "metadata": {},
   "outputs": [
    {
     "ename": "SyntaxError",
     "evalue": "invalid character in identifier (<ipython-input-46-83b1ea4d8680>, line 1)",
     "output_type": "error",
     "traceback": [
      "\u001b[0;36m  File \u001b[0;32m\"<ipython-input-46-83b1ea4d8680>\"\u001b[0;36m, line \u001b[0;32m1\u001b[0m\n\u001b[0;31m    元组，tuple,\u001b[0m\n\u001b[0m           ^\u001b[0m\n\u001b[0;31mSyntaxError\u001b[0m\u001b[0;31m:\u001b[0m invalid character in identifier\n"
     ]
    }
   ],
   "source": [
    "元组，tuple,\n",
    "与 List 的区别：\n",
    "   1.  List 是可变的有序容器，tuple 是不可变的有序容器；\n",
    "   2.  List 用 [] 方括号表示，tuple 用 () 圆括号表示；\n"
   ]
  },
  {
   "cell_type": "code",
   "execution_count": 52,
   "metadata": {},
   "outputs": [
    {
     "name": "stdout",
     "output_type": "stream",
     "text": [
      "<class 'tuple'>\n",
      "<class 'tuple'>\n"
     ]
    },
    {
     "ename": "AttributeError",
     "evalue": "'tuple' object has no attribute 'append'",
     "output_type": "error",
     "traceback": [
      "\u001b[0;31m---------------------------------------------------------------------------\u001b[0m",
      "\u001b[0;31mAttributeError\u001b[0m                            Traceback (most recent call last)",
      "\u001b[0;32m<ipython-input-52-0fafe1b8eef3>\u001b[0m in \u001b[0;36m<module>\u001b[0;34m()\u001b[0m\n\u001b[1;32m      4\u001b[0m \u001b[0mprint\u001b[0m\u001b[1;33m(\u001b[0m\u001b[0mtype\u001b[0m\u001b[1;33m(\u001b[0m\u001b[0mb\u001b[0m\u001b[1;33m)\u001b[0m\u001b[1;33m)\u001b[0m\u001b[1;33m\u001b[0m\u001b[1;33m\u001b[0m\u001b[0m\n\u001b[1;32m      5\u001b[0m \u001b[0ma\u001b[0m \u001b[1;33m+\u001b[0m \u001b[0mb\u001b[0m \u001b[1;33m*\u001b[0m \u001b[1;36m3\u001b[0m\u001b[1;33m\u001b[0m\u001b[1;33m\u001b[0m\u001b[0m\n\u001b[0;32m----> 6\u001b[0;31m \u001b[0ma\u001b[0m\u001b[1;33m.\u001b[0m\u001b[0mappend\u001b[0m\u001b[1;33m(\u001b[0m\u001b[1;36m5\u001b[0m\u001b[1;33m)\u001b[0m\u001b[1;33m\u001b[0m\u001b[1;33m\u001b[0m\u001b[0m\n\u001b[0m",
      "\u001b[0;31mAttributeError\u001b[0m: 'tuple' object has no attribute 'append'"
     ]
    }
   ],
   "source": [
    "a = 2,   # 这种创建 tuple 的方法不建议使用\n",
    "b = (3,)\n",
    "print(type(a))\n",
    "print(type(b))\n",
    "a + b * 3\n"
   ]
  },
  {
   "cell_type": "code",
   "execution_count": null,
   "metadata": {},
   "outputs": [],
   "source": []
  }
 ],
 "metadata": {
  "kernelspec": {
   "display_name": "Python 3",
   "language": "python",
   "name": "python3"
  },
  "language_info": {
   "codemirror_mode": {
    "name": "ipython",
    "version": 3
   },
   "file_extension": ".py",
   "mimetype": "text/x-python",
   "name": "python",
   "nbconvert_exporter": "python",
   "pygments_lexer": "ipython3",
   "version": "3.6.8"
  }
 },
 "nbformat": 4,
 "nbformat_minor": 2
}
