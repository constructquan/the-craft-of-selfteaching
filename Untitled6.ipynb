{
 "cells": [
  {
   "cell_type": "code",
   "execution_count": 3,
   "metadata": {},
   "outputs": [
    {
     "data": {
      "text/plain": [
       "['False',\n",
       " 'None',\n",
       " 'True',\n",
       " 'and',\n",
       " 'as',\n",
       " 'assert',\n",
       " 'break',\n",
       " 'class',\n",
       " 'continue',\n",
       " 'def',\n",
       " 'del',\n",
       " 'elif',\n",
       " 'else',\n",
       " 'except',\n",
       " 'finally',\n",
       " 'for',\n",
       " 'from',\n",
       " 'global',\n",
       " 'if',\n",
       " 'import',\n",
       " 'in',\n",
       " 'is',\n",
       " 'lambda',\n",
       " 'nonlocal',\n",
       " 'not',\n",
       " 'or',\n",
       " 'pass',\n",
       " 'raise',\n",
       " 'return',\n",
       " 'try',\n",
       " 'while',\n",
       " 'with',\n",
       " 'yield']"
      ]
     },
     "execution_count": 3,
     "metadata": {},
     "output_type": "execute_result"
    }
   ],
   "source": [
    "import keyword\n",
    "keyword.kwlist"
   ]
  },
  {
   "cell_type": "code",
   "execution_count": 7,
   "metadata": {},
   "outputs": [
    {
     "data": {
      "text/plain": [
       "True"
      ]
     },
     "execution_count": 7,
     "metadata": {},
     "output_type": "execute_result"
    }
   ],
   "source": [
    "def _is_leap(year):\n",
    "    return year % 4 == 0 and (year % 100 != 0 or year % 400 == 0)\n",
    "_is_leap(4)"
   ]
  },
  {
   "cell_type": "raw",
   "metadata": {},
   "source": []
  },
  {
   "cell_type": "code",
   "execution_count": 19,
   "metadata": {},
   "outputs": [
    {
     "name": "stdout",
     "output_type": "stream",
     "text": [
      "[2, 3, 5, 8, 13, 21, 34, 55, 89]\n"
     ]
    }
   ],
   "source": [
    "def fib_list(start, end):\n",
    "    r = []\n",
    "    \n",
    "    a, b = 0, 1\n",
    "    while a <= end:\n",
    "        if a >= start:\n",
    "            r.append(a)\n",
    "            \n",
    "        a,b = b,a+b\n",
    "    print(r)\n",
    "    \n",
    "    \n",
    "fib_list (2,100)"
   ]
  },
  {
   "cell_type": "code",
   "execution_count": 22,
   "metadata": {},
   "outputs": [
    {
     "name": "stdout",
     "output_type": "stream",
     "text": [
      "1435480288 83224520\n",
      "in be_list(): 1435480320, 83255880\n",
      "1 [4, 5, 6]\n"
     ]
    }
   ],
   "source": [
    "def be_list(a,b):\n",
    "    a += 1\n",
    "    b= b.copy()\n",
    "    b[0] = 'what!!'\n",
    "    print (f'in be_list(): {id(a)}, {id(b)}')\n",
    "    \n",
    "    \n",
    "a = 1\n",
    "b = [4,5,6]\n",
    "\n",
    "print(id(a), id(b))\n",
    "\n",
    "be_list(a, b)\n",
    "\n",
    "print(a, b)"
   ]
  },
  {
   "cell_type": "code",
   "execution_count": 26,
   "metadata": {},
   "outputs": [
    {
     "name": "stdout",
     "output_type": "stream",
     "text": [
      "GoodBye, Jams!\n",
      "GoodBye, Lara!\n",
      "GoodBye, Kate!\n"
     ]
    }
   ],
   "source": [
    "def say_hi(greeting, *names):\n",
    "    for name in names:\n",
    "        print(f'{greeting}, {name.capitalize()}!')\n",
    " \n",
    "names_list = ['Jams', 'Lara','Kate']\n",
    "say_hi('GoodBye', *names_list)"
   ]
  },
  {
   "cell_type": "code",
   "execution_count": 29,
   "metadata": {},
   "outputs": [
    {
     "name": "stdout",
     "output_type": "stream",
     "text": [
      "Hello, mike!\n",
      "Oh, my darling, ann!\n",
      "Hi, john!\n"
     ]
    }
   ],
   "source": [
    "def say_hi(**names_greetings):\n",
    "    for name, greeting in names_greetings.items():\n",
    "        print(f'{greeting}, {name}!')\n",
    "\n",
    "            \n",
    "hi_dict={'mike':'Hello', 'ann':'Oh, my darling', 'john':'Hi'}\n",
    "say_hi(**hi_dict)"
   ]
  },
  {
   "cell_type": "code",
   "execution_count": 35,
   "metadata": {},
   "outputs": [
    {
     "name": "stdout",
     "output_type": "stream",
     "text": [
      "Hello, mike!\n",
      "Hello, john!\n",
      "Hello, zeo!\n"
     ]
    }
   ],
   "source": [
    "def say_hi( *names, greeting='Hello', capitalized=False):\n",
    "    for name in names:\n",
    "        if capitalized:\n",
    "            name = name.capitalize()\n",
    "        print(f'{greeting}, {name}!')\n",
    "\n",
    "say_hi('mike', 'john', 'zeo')"
   ]
  },
  {
   "cell_type": "code",
   "execution_count": null,
   "metadata": {},
   "outputs": [],
   "source": []
  }
 ],
 "metadata": {
  "kernelspec": {
   "display_name": "Python 3",
   "language": "python",
   "name": "python3"
  },
  "language_info": {
   "codemirror_mode": {
    "name": "ipython",
    "version": 3
   },
   "file_extension": ".py",
   "mimetype": "text/x-python",
   "name": "python",
   "nbconvert_exporter": "python",
   "pygments_lexer": "ipython3",
   "version": "3.6.8"
  }
 },
 "nbformat": 4,
 "nbformat_minor": 2
}
