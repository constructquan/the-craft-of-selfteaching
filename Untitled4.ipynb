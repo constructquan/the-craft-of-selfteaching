{
 "cells": [
  {
   "cell_type": "code",
   "execution_count": 1,
   "metadata": {},
   "outputs": [
    {
     "data": {
      "image/png": "[encoded data removed]",
      "text/plain": [
       "<Figure size 432x288 with 1 Axes>"
      ]
     },
     "metadata": {},
     "output_type": "display_data"
    }
   ],
   "source": [
    "import matplotlib.pyplot as plt\n",
    "from matplotlib_venn import venn2\n",
    "\n",
    "admins = {'Moose', 'Joker', 'Joker'}\n",
    "moderators = {'Ann', 'Chris', 'Jane', 'Moose', 'Zero'}\n",
    "\n",
    "v = venn2(subsets = (admins, moderators), set_labels =('admins', 'moderators'))\n",
    "v.get_label_by_id('11').set_text('\\n'.join(admins&moderators))\n",
    "v.get_label_by_id('10').set_text('\\n'.join(admins-moderators))\n",
    "v.get_label_by_id('01').set_text('\\n'.join(admins^moderators))\n",
    "\n",
    "plt.show()"
   ]
  },
  {
   "cell_type": "code",
   "execution_count": 32,
   "metadata": {},
   "outputs": [
    {
     "name": "stdout",
     "output_type": "stream",
     "text": [
      "Yes\n",
      "phonebook1.keys: dict_keys(['ann', 'bob', 'joe', 'zoe'])\n",
      "stan not in\n",
      "phonebook1.keys : dict_values([6585, 8982, 2598, 1225])\n",
      "1225 in phonebook1.values\n",
      "phonebook1.items: dict_items([('ann', 6585), ('bob', 8982), ('joe', 2598), ('zoe', 1225)])\n",
      "stan not in items.\n",
      "<class 'dict_items'> \n",
      "\n",
      "ann\n",
      "4\n",
      "zoe\n",
      "['zoe', 'joe', 'bob', 'ann']\n",
      "{'joe', 'ann', 'zoe', 'bob'}\n",
      "['ann', 'bob', 'joe', 'zoe']\n",
      "('ann', 'bob', 'joe', 'zoe')\n"
     ]
    }
   ],
   "source": [
    "phonebook1 = {'ann':6575, 'bob':8982, 'joe':2598, 'zoe':1225, 'ann':6585}\n",
    "\n",
    "if 'ann' in phonebook1:\n",
    "    print('Yes')\n",
    "else:\n",
    "    print(\"No\")\n",
    "\n",
    "print(f'phonebook1.keys: {phonebook1.keys()}')\n",
    "if 'stan' in phonebook1.keys():\n",
    "    print (f\"stan in phonebook1.keys\")\n",
    "else:\n",
    "    print('stan not in')\n",
    "\n",
    "print(f'phonebook1.keys : {phonebook1.values()}')\n",
    "if 1225 in phonebook1.values():\n",
    "    print(f'1225 in phonebook1.values')\n",
    "else:\n",
    "    print('1225 not in')\n",
    "\n",
    "print(f'phonebook1.items: {phonebook1.items()}')\n",
    "if ('stan', 6898) in phonebook1.items():\n",
    "    print ('stan in phonebook1.items')\n",
    "else:\n",
    "    print('stan not in items.')\n",
    "    \n",
    "print(type(phonebook1.items()), '\\n')\n",
    "\n",
    "print(min(phonebook1))\n",
    "print(len(phonebook1))\n",
    "print(max(phonebook1))\n",
    "type(sorted(phonebook1))\n",
    "print(sorted(phonebook1, reverse=True))\n",
    "print(set(phonebook1))\n",
    "print(list(phonebook1))\n",
    "print(tuple(phonebook1))"
   ]
  },
  {
   "cell_type": "code",
   "execution_count": null,
   "metadata": {},
   "outputs": [],
   "source": []
  },
  {
   "cell_type": "code",
   "execution_count": 40,
   "metadata": {},
   "outputs": [
    {
     "name": "stdout",
     "output_type": "stream",
     "text": [
      "{'john': 9876, 'mike': 5603, 'stan': 6898, 'eric': 7898}\n",
      "{}\n",
      "{'john': 9876, 'mike': 5603, 'stan': 6898, 'eric': 7898}\n",
      "phonebook1: {'ann': 6585, 'bob': 8982, 'joe': 2598, 'zoe': 1225}\n",
      "popitem: ('zoe', 1225)\n",
      "after popitem: {'ann': 6585, 'bob': 8982, 'joe': 2598}\n"
     ]
    }
   ],
   "source": [
    "phonebook1 = {'ann':6575, 'bob':8982, 'joe':2598, 'zoe':1225, 'ann':6585}\n",
    "phonebook2 = {'john':9876, 'mike':5603, 'stan':6898, 'eric':7898}\n",
    "\n",
    "phonebook3 = phonebook2.copy()\n",
    "print(phonebook3)\n",
    "\n",
    "phonebook3.clear()\n",
    "print(phonebook3)\n",
    "\n",
    "print(phonebook2)                      # .copy() 的“原件”不会发生变化\n",
    "\n",
    "print(f'phonebook1: {phonebook1}')\n",
    "p = phonebook1.popitem()\n",
    "print(f'popitem: {p}')\n",
    "print(f'after popitem: {phonebook1}')\n",
    "#phonebook1\n",
    "\n",
    "#p = phonebook1.pop('adam', 3538)\n",
    "#p\n",
    "#phonebook1\n",
    "\n",
    "#p = phonebook1.get('adam', 3538)\n",
    "#p\n",
    "#phonebook1\n",
    "\n",
    "#p = phonebook1.setdefault('adam', 3538)\n",
    "#p\n",
    "#phonebook1"
   ]
  },
  {
   "cell_type": "code",
   "execution_count": 5,
   "metadata": {},
   "outputs": [
    {
     "name": "stdout",
     "output_type": "stream",
     "text": [
      "<_io.TextIOWrapper name='words_alpha.txt' mode='r' encoding='cp936'>\n",
      "words_alpha.txt\n"
     ]
    }
   ],
   "source": [
    "x = open(\"words_alpha.txt\")\n",
    "print(x)\n",
    "print(x.name)\n",
    "x.close()"
   ]
  },
  {
   "cell_type": "code",
   "execution_count": 14,
   "metadata": {},
   "outputs": [
    {
     "name": "stdout",
     "output_type": "stream",
     "text": [
      "<_io.TextIOWrapper name='test_file.txt' mode='w' encoding='cp936'>\n",
      "x.name: test_file.txt\n",
      "Hello world!\n",
      "Second line.\n",
      "Third line.\n",
      "Winter is coming.\n",
      "\n",
      "\n",
      "Hello world!\n",
      "Second line.\n",
      "<class 'list'>\n",
      "Hello world!\n",
      "Second line.\n",
      "Third line.\n",
      "Winter is coming.\n"
     ]
    }
   ],
   "source": [
    "x = open(\"test_file.txt\", 'w')\n",
    "print(x)\n",
    "x.close()\n",
    "\n",
    "x = open(\"test_file.txt\", 'w')\n",
    "x.write(\"Hello world!\\nSecond line.\\nThird line.\\nWinter is coming.\\n\")\n",
    "print(f'x.name: {x.name}')\n",
    "x.close()\n",
    "\n",
    "x = open(\"test_file.txt\", 'r')\n",
    "s=x.read()\n",
    "print(s)\n",
    "x.close()\n",
    "print()\n",
    "\n",
    "x= open(\"test_file.txt\", 'r')\n",
    "s=x.readline()\n",
    "print(s.strip())\n",
    "s=x.readline()\n",
    "print(s.strip())\n",
    "x.close()\n",
    "\n",
    "x=open(\"test_file.txt\", 'r')\n",
    "s= x.readlines()\n",
    "print(type(s))\n",
    "for line in s:\n",
    "    print(line.strip())\n",
    "    \n",
    "x.close()"
   ]
  },
  {
   "cell_type": "code",
   "execution_count": 19,
   "metadata": {},
   "outputs": [
    {
     "name": "stdout",
     "output_type": "stream",
     "text": [
      "words_alpha.txt\n",
      "attitude\n",
      "\n"
     ]
    }
   ],
   "source": [
    "def sum_of_word(word):\n",
    "    sum = 0\n",
    "    for char in word:\n",
    "        sum += ord(char) - 96\n",
    "    return sum\n",
    "\n",
    "with open(\"result_100.txt\", 'a') as f:\n",
    "    with open(\"words_alpha.txt\", 'r') as f:\n",
    "        print(f.name)\n",
    "        for word in f.readlines():\n",
    "            if sum_of_word(word.strip()) == 100:\n",
    "                "
   ]
  },
  {
   "cell_type": "code",
   "execution_count": null,
   "metadata": {},
   "outputs": [],
   "source": []
  }
 ],
 "metadata": {
  "kernelspec": {
   "display_name": "Python 3",
   "language": "python",
   "name": "python3"
  },
  "language_info": {
   "codemirror_mode": {
    "name": "ipython",
    "version": 3
   },
   "file_extension": ".py",
   "mimetype": "text/x-python",
   "name": "python",
   "nbconvert_exporter": "python",
   "pygments_lexer": "ipython3",
   "version": "3.6.8"
  }
 },
 "nbformat": 4,
 "nbformat_minor": 2
}
